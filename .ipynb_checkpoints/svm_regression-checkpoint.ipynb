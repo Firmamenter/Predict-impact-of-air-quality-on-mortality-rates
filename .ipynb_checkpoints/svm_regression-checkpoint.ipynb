{
 "cells": [
  {
   "cell_type": "markdown",
   "metadata": {},
   "source": [
    "Part 1. Data Preprocessing"
   ]
  },
  {
   "cell_type": "code",
   "execution_count": 5,
   "metadata": {
    "collapsed": false
   },
   "outputs": [
    {
     "name": "stdout",
     "output_type": "stream",
     "text": [
      "Length of train_data:  10000\n",
      "Length of val_data:  1833\n"
     ]
    }
   ],
   "source": [
    "import csv\n",
    "\n",
    "# Loading data from csv file\n",
    "def load_data(split):\n",
    "    with open(split + '.csv') as f:\n",
    "        data = []\n",
    "        for line in f.readlines():\n",
    "            if split != 'test':\n",
    "                Id, region, date, mortality_rate, O3, PM10, PM25, NO2, T2M = line.split(',')\n",
    "                data.append([Id.strip(), region.strip(), date.strip(), mortality_rate.strip(), O3.strip(), PM10.strip(), PM25.strip(), NO2.strip(), T2M.strip()])\n",
    "            else:\n",
    "                Id, region, date, O3, PM10, PM25, NO2, T2M = line.split(',')\n",
    "                data.append([Id.strip(), region.strip(), date.strip(), O3.strip(), PM10.strip(), PM25.strip(), NO2.strip(), T2M.strip()])\n",
    "        return data\n",
    "    \n",
    "train_data = load_data('train')\n",
    "\n",
    "print ('Length of train_data: ', len(train_data))\n",
    "\n",
    "val_data = load_data('validation')\n",
    "\n",
    "print ('Length of val_data: ', len(val_data))"
   ]
  },
  {
   "cell_type": "code",
   "execution_count": null,
   "metadata": {
    "collapsed": true
   },
   "outputs": [],
   "source": []
  }
 ],
 "metadata": {
  "anaconda-cloud": {},
  "kernelspec": {
   "display_name": "Python [Root]",
   "language": "python",
   "name": "Python [Root]"
  },
  "language_info": {
   "codemirror_mode": {
    "name": "ipython",
    "version": 3
   },
   "file_extension": ".py",
   "mimetype": "text/x-python",
   "name": "python",
   "nbconvert_exporter": "python",
   "pygments_lexer": "ipython3",
   "version": "3.5.2"
  }
 },
 "nbformat": 4,
 "nbformat_minor": 0
}
