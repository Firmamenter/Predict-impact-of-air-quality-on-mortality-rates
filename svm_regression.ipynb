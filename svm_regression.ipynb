{
 "cells": [
  {
   "cell_type": "markdown",
   "metadata": {},
   "source": [
    "Part 1. Data Preprocessing"
   ]
  },
  {
   "cell_type": "code",
   "execution_count": 10,
   "metadata": {
    "collapsed": false
   },
   "outputs": [
    {
     "name": "stdout",
     "output_type": "stream",
     "text": [
      "Length of train_2k:  2000\n",
      "Length of train_4k:  4000\n",
      "Length of train_6k:  6000\n",
      "Length of train_8k:  8000\n",
      "Length of train_10k:  10000\n",
      "Length of val_data:  1833\n"
     ]
    }
   ],
   "source": [
    "import csv\n",
    "\n",
    "# Loading data from csv file\n",
    "def load_data(split):\n",
    "    with open(split + '.csv') as f:\n",
    "        data = []\n",
    "        for line in f.readlines():\n",
    "            if split != 'test':\n",
    "                Id, region, date, mortality_rate, O3, PM10, PM25, NO2, T2M = line.split(',')\n",
    "                data.append([Id.strip(), float(mortality_rate.strip()), float(O3.strip()), float(PM10.strip()), float(PM25.strip()), float(NO2.strip()), float(T2M.strip())])\n",
    "            else:\n",
    "                Id, region, date, O3, PM10, PM25, NO2, T2M = line.split(',')\n",
    "                data.append([Id.strip(), float(O3.strip()), float(PM10.strip()), float(PM25.strip()), float(NO2.strip()), float(T2M.strip())])\n",
    "        return data\n",
    "    \n",
    "train_2k = load_data('train_2k')\n",
    "train_4k = load_data('train_4k')\n",
    "train_6k = load_data('train_6k')\n",
    "train_8k = load_data('train_8k')\n",
    "train_10k = load_data('train_10k')\n",
    "\n",
    "print ('Length of train_2k: ', len(train_2k))\n",
    "print ('Length of train_4k: ', len(train_4k))\n",
    "print ('Length of train_6k: ', len(train_6k))\n",
    "print ('Length of train_8k: ', len(train_8k))\n",
    "print ('Length of train_10k: ', len(train_10k))\n",
    "\n",
    "val_data = load_data('validation')\n",
    "\n",
    "print ('Length of val_data: ', len(val_data))"
   ]
  },
  {
   "cell_type": "code",
   "execution_count": null,
   "metadata": {
    "collapsed": true
   },
   "outputs": [],
   "source": []
  }
 ],
 "metadata": {
  "anaconda-cloud": {},
  "kernelspec": {
   "display_name": "Python [Root]",
   "language": "python",
   "name": "Python [Root]"
  },
  "language_info": {
   "codemirror_mode": {
    "name": "ipython",
    "version": 3
   },
   "file_extension": ".py",
   "mimetype": "text/x-python",
   "name": "python",
   "nbconvert_exporter": "python",
   "pygments_lexer": "ipython3",
   "version": "3.5.2"
  }
 },
 "nbformat": 4,
 "nbformat_minor": 0
}
